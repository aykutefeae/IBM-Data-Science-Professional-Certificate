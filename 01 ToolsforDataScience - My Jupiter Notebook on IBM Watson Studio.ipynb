{
 "cells": [
  {
   "cell_type": "markdown",
   "metadata": {},
   "source": [
    "<center>\n",
    "    <img src=\"https://s3-api.us-geo.objectstorage.softlayer.net/cf-courses-data/CognitiveClass/Logos/organization_logo/organization_logo.png\" width=\"300\" alt=\"cognitiveclass.ai logo\"  />\n",
    "</center>\n"
   ]
  },
  {
   "cell_type": "markdown",
   "metadata": {},
   "source": [
    "#### Add your code below following the instructions given in the course\n"
   ]
  },
  {
   "cell_type": "markdown",
   "metadata": {},
   "source": [
    "# My Jupiter Notebook on IBM Watson Studio"
   ]
  },
  {
   "cell_type": "markdown",
   "metadata": {},
   "source": [
    "**Aykut Efe** <br> Mechanical Engineer"
   ]
  },
  {
   "cell_type": "markdown",
   "metadata": {},
   "source": [
    "*I am a mechanical engineer in a household appliances company, and I would like to use data science by combining it with my professional domain to design innovative products.*"
   ]
  },
  {
   "cell_type": "markdown",
   "metadata": {},
   "source": [
    "### My code below is to print my name \"Aykut Efe\"."
   ]
  },
  {
   "cell_type": "code",
   "execution_count": 5,
   "metadata": {},
   "outputs": [
    {
     "name": "stdout",
     "output_type": "stream",
     "text": [
      "Aykut Efe\n"
     ]
    }
   ],
   "source": [
    "print(\"Aykut Efe\")"
   ]
  },
  {
   "cell_type": "markdown",
   "metadata": {},
   "source": [
    "---\n",
    "\n",
    "Horizontal Rule is applied between tasks.\n",
    "\n",
    "---\n",
    "\n",
    "* one\n",
    "* two\n",
    "* three\n",
    "\n",
    "---\n",
    "\n",
    "1. octopus\n",
    "2. seven\n",
    "3. two\n",
    "\n",
    "---\n",
    "\n",
    "| Tasks           | Order |\n",
    "|:---------------:|:-----:|\n",
    "| Horizontal Rule | 1     |\n",
    "| Bulleted List   | 2     |\n",
    "| Numbered List   | 3     |\n",
    "| Tables          | 4     |\n",
    "| Hyperlinks      | 5     |\n",
    "| Blocked Quotes  | 6     |\n",
    "| Strikethrough   | 7     |\n",
    "\n",
    "---\n",
    "\n",
    "[Google Hyperlink](https://www.google.com)\n",
    "\n",
    "---\n",
    "\n",
    "> Blocked Quotes\n",
    "\n",
    "---\n",
    "\n",
    "~~Strikethrough~~\n",
    "\n",
    "---\n"
   ]
  },
  {
   "cell_type": "code",
   "execution_count": null,
   "metadata": {},
   "outputs": [],
   "source": []
  }
 ],
 "metadata": {
  "kernelspec": {
   "display_name": "Python",
   "language": "python",
   "name": "conda-env-python-py"
  },
  "language_info": {
   "codemirror_mode": {
    "name": "ipython",
    "version": 3
   },
   "file_extension": ".py",
   "mimetype": "text/x-python",
   "name": "python",
   "nbconvert_exporter": "python",
   "pygments_lexer": "ipython3",
   "version": "3.7.12"
  }
 },
 "nbformat": 4,
 "nbformat_minor": 4
}
